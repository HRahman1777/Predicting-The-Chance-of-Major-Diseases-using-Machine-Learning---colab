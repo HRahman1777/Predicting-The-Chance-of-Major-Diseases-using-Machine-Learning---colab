{
  "nbformat": 4,
  "nbformat_minor": 0,
  "metadata": {
    "colab": {
      "name": "Predicting the chance of diseases ML.ipynb",
      "provenance": [],
      "authorship_tag": "ABX9TyPJt0D4h5SU00jPDvthqAoe",
      "include_colab_link": true
    },
    "kernelspec": {
      "name": "python3",
      "display_name": "Python 3"
    },
    "language_info": {
      "name": "python"
    }
  },
  "cells": [
    {
      "cell_type": "markdown",
      "metadata": {
        "id": "view-in-github",
        "colab_type": "text"
      },
      "source": [
        "<a href=\"https://colab.research.google.com/github/HRahman1777/Predicting_The_Chance_of_Major_Diseases_using_ML-colab/blob/main/Predicting_the_chance_of_diseases_ML.ipynb\" target=\"_parent\"><img src=\"https://colab.research.google.com/assets/colab-badge.svg\" alt=\"Open In Colab\"/></a>"
      ]
    },
    {
      "cell_type": "markdown",
      "metadata": {
        "id": "0qszys5pviLC"
      },
      "source": [
        "# Mount Drive and Read Dataset and Import library "
      ]
    },
    {
      "cell_type": "code",
      "metadata": {
        "colab": {
          "base_uri": "https://localhost:8080/"
        },
        "id": "qD1ZkAPgvK-L",
        "outputId": "30fda65e-11b4-4686-8074-46f02af7c8e3"
      },
      "source": [
        "from google.colab import drive\n",
        "drive.mount('/content/gdrive')"
      ],
      "execution_count": 132,
      "outputs": [
        {
          "output_type": "stream",
          "text": [
            "Drive already mounted at /content/gdrive; to attempt to forcibly remount, call drive.mount(\"/content/gdrive\", force_remount=True).\n"
          ],
          "name": "stdout"
        }
      ]
    },
    {
      "cell_type": "code",
      "metadata": {
        "id": "Chw6WqGtv6DT"
      },
      "source": [
        "import pandas as pd"
      ],
      "execution_count": 133,
      "outputs": []
    },
    {
      "cell_type": "code",
      "metadata": {
        "id": "KFHABSwfv7cG"
      },
      "source": [
        "train = pd.read_csv('gdrive/My Drive/Colab Notebooks/patient_data.csv')"
      ],
      "execution_count": 134,
      "outputs": []
    },
    {
      "cell_type": "markdown",
      "metadata": {
        "id": "QZrRQmasI2wc"
      },
      "source": [
        "Library For Data Visual "
      ]
    },
    {
      "cell_type": "code",
      "metadata": {
        "id": "HaAHapNNI-L0"
      },
      "source": [
        "import matplotlib.pyplot as plt\n",
        "%matplotlib inline\n",
        "import seaborn as sns\n",
        "sns.set()"
      ],
      "execution_count": 135,
      "outputs": []
    },
    {
      "cell_type": "code",
      "metadata": {
        "id": "hah-1g5mApSG"
      },
      "source": [
        "import numpy as np"
      ],
      "execution_count": 136,
      "outputs": []
    },
    {
      "cell_type": "markdown",
      "metadata": {
        "id": "U4UIHBV0waUH"
      },
      "source": [
        "# Show Dataset"
      ]
    },
    {
      "cell_type": "code",
      "metadata": {
        "id": "5x_v6xdgwV1m",
        "colab": {
          "base_uri": "https://localhost:8080/",
          "height": 195
        },
        "outputId": "366d111c-54a5-4d35-f5b7-4cf2749498be"
      },
      "source": [
        "train.head()"
      ],
      "execution_count": 137,
      "outputs": [
        {
          "output_type": "execute_result",
          "data": {
            "text/html": [
              "<div>\n",
              "<style scoped>\n",
              "    .dataframe tbody tr th:only-of-type {\n",
              "        vertical-align: middle;\n",
              "    }\n",
              "\n",
              "    .dataframe tbody tr th {\n",
              "        vertical-align: top;\n",
              "    }\n",
              "\n",
              "    .dataframe thead th {\n",
              "        text-align: right;\n",
              "    }\n",
              "</style>\n",
              "<table border=\"1\" class=\"dataframe\">\n",
              "  <thead>\n",
              "    <tr style=\"text-align: right;\">\n",
              "      <th></th>\n",
              "      <th>gender</th>\n",
              "      <th>age</th>\n",
              "      <th>diabetes</th>\n",
              "      <th>hypertension</th>\n",
              "      <th>stroke</th>\n",
              "      <th>heart disease</th>\n",
              "      <th>smoking history</th>\n",
              "      <th>BMI</th>\n",
              "    </tr>\n",
              "  </thead>\n",
              "  <tbody>\n",
              "    <tr>\n",
              "      <th>0</th>\n",
              "      <td>Female</td>\n",
              "      <td>80.0</td>\n",
              "      <td>0</td>\n",
              "      <td>0</td>\n",
              "      <td>0</td>\n",
              "      <td>1</td>\n",
              "      <td>never</td>\n",
              "      <td>25.19</td>\n",
              "    </tr>\n",
              "    <tr>\n",
              "      <th>1</th>\n",
              "      <td>Female</td>\n",
              "      <td>54.0</td>\n",
              "      <td>0</td>\n",
              "      <td>0</td>\n",
              "      <td>0</td>\n",
              "      <td>0</td>\n",
              "      <td>NaN</td>\n",
              "      <td>NaN</td>\n",
              "    </tr>\n",
              "    <tr>\n",
              "      <th>2</th>\n",
              "      <td>Male</td>\n",
              "      <td>28.0</td>\n",
              "      <td>0</td>\n",
              "      <td>0</td>\n",
              "      <td>0</td>\n",
              "      <td>0</td>\n",
              "      <td>never</td>\n",
              "      <td>NaN</td>\n",
              "    </tr>\n",
              "    <tr>\n",
              "      <th>3</th>\n",
              "      <td>Female</td>\n",
              "      <td>36.0</td>\n",
              "      <td>0</td>\n",
              "      <td>0</td>\n",
              "      <td>0</td>\n",
              "      <td>0</td>\n",
              "      <td>current</td>\n",
              "      <td>23.45</td>\n",
              "    </tr>\n",
              "    <tr>\n",
              "      <th>4</th>\n",
              "      <td>Male</td>\n",
              "      <td>76.0</td>\n",
              "      <td>0</td>\n",
              "      <td>1</td>\n",
              "      <td>0</td>\n",
              "      <td>1</td>\n",
              "      <td>current</td>\n",
              "      <td>20.14</td>\n",
              "    </tr>\n",
              "  </tbody>\n",
              "</table>\n",
              "</div>"
            ],
            "text/plain": [
              "   gender   age  diabetes  ...  heart disease  smoking history    BMI\n",
              "0  Female  80.0         0  ...              1            never  25.19\n",
              "1  Female  54.0         0  ...              0              NaN    NaN\n",
              "2    Male  28.0         0  ...              0            never    NaN\n",
              "3  Female  36.0         0  ...              0          current  23.45\n",
              "4    Male  76.0         0  ...              1          current  20.14\n",
              "\n",
              "[5 rows x 8 columns]"
            ]
          },
          "metadata": {
            "tags": []
          },
          "execution_count": 137
        }
      ]
    },
    {
      "cell_type": "markdown",
      "metadata": {
        "id": "ZuoAEWylw8Al"
      },
      "source": [
        "# Show Shape"
      ]
    },
    {
      "cell_type": "code",
      "metadata": {
        "id": "vfmbizYgw-rt",
        "colab": {
          "base_uri": "https://localhost:8080/"
        },
        "outputId": "d9d60720-a9ff-4356-8a9a-6804da795fff"
      },
      "source": [
        "train.shape"
      ],
      "execution_count": 138,
      "outputs": [
        {
          "output_type": "execute_result",
          "data": {
            "text/plain": [
              "(100000, 8)"
            ]
          },
          "metadata": {
            "tags": []
          },
          "execution_count": 138
        }
      ]
    },
    {
      "cell_type": "markdown",
      "metadata": {
        "id": "Y0EG0SYExRi_"
      },
      "source": [
        "# Show All Information with missing Value"
      ]
    },
    {
      "cell_type": "code",
      "metadata": {
        "id": "qkgxV4NwxUgK",
        "colab": {
          "base_uri": "https://localhost:8080/"
        },
        "outputId": "44f7c609-30b3-4b12-9b1b-17c4b9934730"
      },
      "source": [
        "train.info()"
      ],
      "execution_count": 139,
      "outputs": [
        {
          "output_type": "stream",
          "text": [
            "<class 'pandas.core.frame.DataFrame'>\n",
            "RangeIndex: 100000 entries, 0 to 99999\n",
            "Data columns (total 8 columns):\n",
            " #   Column           Non-Null Count   Dtype  \n",
            "---  ------           --------------   -----  \n",
            " 0   gender           100000 non-null  object \n",
            " 1   age              100000 non-null  float64\n",
            " 2   diabetes         100000 non-null  int64  \n",
            " 3   hypertension     100000 non-null  int64  \n",
            " 4   stroke           100000 non-null  int64  \n",
            " 5   heart disease    100000 non-null  int64  \n",
            " 6   smoking history  64184 non-null   object \n",
            " 7   BMI              74556 non-null   float64\n",
            "dtypes: float64(2), int64(4), object(2)\n",
            "memory usage: 6.1+ MB\n"
          ],
          "name": "stdout"
        }
      ]
    },
    {
      "cell_type": "markdown",
      "metadata": {
        "id": "H3DKOxZAx3Q5"
      },
      "source": [
        "# Show Null Value"
      ]
    },
    {
      "cell_type": "code",
      "metadata": {
        "id": "1TwxQNT5x8wW",
        "colab": {
          "base_uri": "https://localhost:8080/"
        },
        "outputId": "e4829f96-565e-4998-e4fe-984b2865c72b"
      },
      "source": [
        "train.isnull().sum()"
      ],
      "execution_count": 140,
      "outputs": [
        {
          "output_type": "execute_result",
          "data": {
            "text/plain": [
              "gender                 0\n",
              "age                    0\n",
              "diabetes               0\n",
              "hypertension           0\n",
              "stroke                 0\n",
              "heart disease          0\n",
              "smoking history    35816\n",
              "BMI                25444\n",
              "dtype: int64"
            ]
          },
          "metadata": {
            "tags": []
          },
          "execution_count": 140
        }
      ]
    },
    {
      "cell_type": "markdown",
      "metadata": {
        "id": "0ND5DuOmy-sb"
      },
      "source": [
        "# Data Clean - removing missing data"
      ]
    },
    {
      "cell_type": "code",
      "metadata": {
        "id": "Ttx4en5EzSVh"
      },
      "source": [
        "new_data = train.dropna(axis = 0, how ='any')"
      ],
      "execution_count": 141,
      "outputs": []
    },
    {
      "cell_type": "code",
      "metadata": {
        "id": "9Xpo4eWZ0XrX",
        "colab": {
          "base_uri": "https://localhost:8080/"
        },
        "outputId": "58e51243-13f8-460b-8d6b-a40e3612e4f8"
      },
      "source": [
        "new_data.shape"
      ],
      "execution_count": 142,
      "outputs": [
        {
          "output_type": "execute_result",
          "data": {
            "text/plain": [
              "(52175, 8)"
            ]
          },
          "metadata": {
            "tags": []
          },
          "execution_count": 142
        }
      ]
    },
    {
      "cell_type": "code",
      "metadata": {
        "id": "F6k2vivm0wBO",
        "colab": {
          "base_uri": "https://localhost:8080/"
        },
        "outputId": "2a76fe29-8d5c-40f0-9214-db1e1c44dcbf"
      },
      "source": [
        "new_data.isnull().sum()"
      ],
      "execution_count": 143,
      "outputs": [
        {
          "output_type": "execute_result",
          "data": {
            "text/plain": [
              "gender             0\n",
              "age                0\n",
              "diabetes           0\n",
              "hypertension       0\n",
              "stroke             0\n",
              "heart disease      0\n",
              "smoking history    0\n",
              "BMI                0\n",
              "dtype: int64"
            ]
          },
          "metadata": {
            "tags": []
          },
          "execution_count": 143
        }
      ]
    },
    {
      "cell_type": "markdown",
      "metadata": {
        "id": "HT3gvp6U0_iv"
      },
      "source": [
        "# Data Clean - combining diseases row"
      ]
    },
    {
      "cell_type": "code",
      "metadata": {
        "id": "9L2RsfWK1MCV"
      },
      "source": [
        "temp_data = new_data"
      ],
      "execution_count": 144,
      "outputs": []
    },
    {
      "cell_type": "code",
      "metadata": {
        "colab": {
          "base_uri": "https://localhost:8080/"
        },
        "id": "SFIsN4mSwrBP",
        "outputId": "4a807889-7678-4bac-92f4-3e8b0d0cd2c0"
      },
      "source": [
        "temp_data[\"disease\"] = temp_data[\"diabetes\"]+ temp_data[\"stroke\"]+temp_data[\"heart disease\"]"
      ],
      "execution_count": 145,
      "outputs": [
        {
          "output_type": "stream",
          "text": [
            "/usr/local/lib/python3.7/dist-packages/ipykernel_launcher.py:1: SettingWithCopyWarning: \n",
            "A value is trying to be set on a copy of a slice from a DataFrame.\n",
            "Try using .loc[row_indexer,col_indexer] = value instead\n",
            "\n",
            "See the caveats in the documentation: https://pandas.pydata.org/pandas-docs/stable/user_guide/indexing.html#returning-a-view-versus-a-copy\n",
            "  \"\"\"Entry point for launching an IPython kernel.\n"
          ],
          "name": "stderr"
        }
      ]
    },
    {
      "cell_type": "code",
      "metadata": {
        "colab": {
          "base_uri": "https://localhost:8080/",
          "height": 0
        },
        "id": "ERNqemdIRdvQ",
        "outputId": "0a662c07-1dd3-4f2e-9db2-61a7dc3e5662"
      },
      "source": [
        "temp_data.head(10)"
      ],
      "execution_count": 146,
      "outputs": [
        {
          "output_type": "execute_result",
          "data": {
            "text/html": [
              "<div>\n",
              "<style scoped>\n",
              "    .dataframe tbody tr th:only-of-type {\n",
              "        vertical-align: middle;\n",
              "    }\n",
              "\n",
              "    .dataframe tbody tr th {\n",
              "        vertical-align: top;\n",
              "    }\n",
              "\n",
              "    .dataframe thead th {\n",
              "        text-align: right;\n",
              "    }\n",
              "</style>\n",
              "<table border=\"1\" class=\"dataframe\">\n",
              "  <thead>\n",
              "    <tr style=\"text-align: right;\">\n",
              "      <th></th>\n",
              "      <th>gender</th>\n",
              "      <th>age</th>\n",
              "      <th>diabetes</th>\n",
              "      <th>hypertension</th>\n",
              "      <th>stroke</th>\n",
              "      <th>heart disease</th>\n",
              "      <th>smoking history</th>\n",
              "      <th>BMI</th>\n",
              "      <th>disease</th>\n",
              "    </tr>\n",
              "  </thead>\n",
              "  <tbody>\n",
              "    <tr>\n",
              "      <th>0</th>\n",
              "      <td>Female</td>\n",
              "      <td>80.0</td>\n",
              "      <td>0</td>\n",
              "      <td>0</td>\n",
              "      <td>0</td>\n",
              "      <td>1</td>\n",
              "      <td>never</td>\n",
              "      <td>25.19</td>\n",
              "      <td>1</td>\n",
              "    </tr>\n",
              "    <tr>\n",
              "      <th>3</th>\n",
              "      <td>Female</td>\n",
              "      <td>36.0</td>\n",
              "      <td>0</td>\n",
              "      <td>0</td>\n",
              "      <td>0</td>\n",
              "      <td>0</td>\n",
              "      <td>current</td>\n",
              "      <td>23.45</td>\n",
              "      <td>0</td>\n",
              "    </tr>\n",
              "    <tr>\n",
              "      <th>4</th>\n",
              "      <td>Male</td>\n",
              "      <td>76.0</td>\n",
              "      <td>0</td>\n",
              "      <td>1</td>\n",
              "      <td>0</td>\n",
              "      <td>1</td>\n",
              "      <td>current</td>\n",
              "      <td>20.14</td>\n",
              "      <td>1</td>\n",
              "    </tr>\n",
              "    <tr>\n",
              "      <th>6</th>\n",
              "      <td>Female</td>\n",
              "      <td>44.0</td>\n",
              "      <td>1</td>\n",
              "      <td>0</td>\n",
              "      <td>0</td>\n",
              "      <td>0</td>\n",
              "      <td>never</td>\n",
              "      <td>19.31</td>\n",
              "      <td>1</td>\n",
              "    </tr>\n",
              "    <tr>\n",
              "      <th>8</th>\n",
              "      <td>Male</td>\n",
              "      <td>42.0</td>\n",
              "      <td>0</td>\n",
              "      <td>0</td>\n",
              "      <td>0</td>\n",
              "      <td>0</td>\n",
              "      <td>never</td>\n",
              "      <td>33.64</td>\n",
              "      <td>0</td>\n",
              "    </tr>\n",
              "    <tr>\n",
              "      <th>11</th>\n",
              "      <td>Female</td>\n",
              "      <td>54.0</td>\n",
              "      <td>0</td>\n",
              "      <td>0</td>\n",
              "      <td>0</td>\n",
              "      <td>0</td>\n",
              "      <td>former</td>\n",
              "      <td>54.70</td>\n",
              "      <td>0</td>\n",
              "    </tr>\n",
              "    <tr>\n",
              "      <th>12</th>\n",
              "      <td>Female</td>\n",
              "      <td>78.0</td>\n",
              "      <td>0</td>\n",
              "      <td>0</td>\n",
              "      <td>0</td>\n",
              "      <td>0</td>\n",
              "      <td>former</td>\n",
              "      <td>36.05</td>\n",
              "      <td>0</td>\n",
              "    </tr>\n",
              "    <tr>\n",
              "      <th>13</th>\n",
              "      <td>Female</td>\n",
              "      <td>67.0</td>\n",
              "      <td>0</td>\n",
              "      <td>0</td>\n",
              "      <td>0</td>\n",
              "      <td>0</td>\n",
              "      <td>never</td>\n",
              "      <td>25.69</td>\n",
              "      <td>0</td>\n",
              "    </tr>\n",
              "    <tr>\n",
              "      <th>16</th>\n",
              "      <td>Male</td>\n",
              "      <td>15.0</td>\n",
              "      <td>0</td>\n",
              "      <td>0</td>\n",
              "      <td>0</td>\n",
              "      <td>0</td>\n",
              "      <td>never</td>\n",
              "      <td>30.36</td>\n",
              "      <td>0</td>\n",
              "    </tr>\n",
              "    <tr>\n",
              "      <th>17</th>\n",
              "      <td>Female</td>\n",
              "      <td>42.0</td>\n",
              "      <td>0</td>\n",
              "      <td>0</td>\n",
              "      <td>0</td>\n",
              "      <td>0</td>\n",
              "      <td>never</td>\n",
              "      <td>24.48</td>\n",
              "      <td>0</td>\n",
              "    </tr>\n",
              "  </tbody>\n",
              "</table>\n",
              "</div>"
            ],
            "text/plain": [
              "    gender   age  diabetes  ...  smoking history    BMI  disease\n",
              "0   Female  80.0         0  ...            never  25.19        1\n",
              "3   Female  36.0         0  ...          current  23.45        0\n",
              "4     Male  76.0         0  ...          current  20.14        1\n",
              "6   Female  44.0         1  ...            never  19.31        1\n",
              "8     Male  42.0         0  ...            never  33.64        0\n",
              "11  Female  54.0         0  ...           former  54.70        0\n",
              "12  Female  78.0         0  ...           former  36.05        0\n",
              "13  Female  67.0         0  ...            never  25.69        0\n",
              "16    Male  15.0         0  ...            never  30.36        0\n",
              "17  Female  42.0         0  ...            never  24.48        0\n",
              "\n",
              "[10 rows x 9 columns]"
            ]
          },
          "metadata": {
            "tags": []
          },
          "execution_count": 146
        }
      ]
    },
    {
      "cell_type": "markdown",
      "metadata": {
        "id": "YBiQDzHCtUrz"
      },
      "source": [
        "# Visual Data - bar chart"
      ]
    },
    {
      "cell_type": "code",
      "metadata": {
        "id": "AMY6scDPDCof"
      },
      "source": [
        "def bar_chart(feature):\n",
        "    diseased = temp_data[temp_data['disease']==1][feature].value_counts()\n",
        "    not_diseased = temp_data[temp_data['disease']==0][feature].value_counts()\n",
        "    df = pd.DataFrame([diseased,not_diseased])\n",
        "    df.index = ['diseased','not_diseased']\n",
        "    df.plot(kind='bar',stacked=True, figsize=(10,5))"
      ],
      "execution_count": 147,
      "outputs": []
    },
    {
      "cell_type": "code",
      "metadata": {
        "colab": {
          "base_uri": "https://localhost:8080/",
          "height": 0
        },
        "id": "LJmMnT55D0S5",
        "outputId": "28dd850d-1cda-4e48-a5b3-19b6f665b275"
      },
      "source": [
        "bar_chart('smoking history')"
      ],
      "execution_count": 148,
      "outputs": [
        {
          "output_type": "display_data",
          "data": {
            "image/png": "[encoded data removed]",
            "text/plain": [
              "<Figure size 720x360 with 1 Axes>"
            ]
          },
          "metadata": {
            "tags": []
          }
        }
      ]
    },
    {
      "cell_type": "code",
      "metadata": {
        "colab": {
          "base_uri": "https://localhost:8080/",
          "height": 0
        },
        "id": "72bNA2-CJykF",
        "outputId": "478fe1b0-027b-414f-f8f0-4337634f0fcf"
      },
      "source": [
        "bar_chart('gender')"
      ],
      "execution_count": 149,
      "outputs": [
        {
          "output_type": "display_data",
          "data": {
            "image/png": "[encoded data removed]",
            "text/plain": [
              "<Figure size 720x360 with 1 Axes>"
            ]
          },
          "metadata": {
            "tags": []
          }
        }
      ]
    },
    {
      "cell_type": "code",
      "metadata": {
        "colab": {
          "base_uri": "https://localhost:8080/",
          "height": 0
        },
        "id": "38cDDw8EKmnF",
        "outputId": "73c3868e-aaaf-4aa6-b9b8-c0e2425468d1"
      },
      "source": [
        "bar_chart('hypertension')"
      ],
      "execution_count": 150,
      "outputs": [
        {
          "output_type": "display_data",
          "data": {
            "image/png": "[encoded data removed]",
            "text/plain": [
              "<Figure size 720x360 with 1 Axes>"
            ]
          },
          "metadata": {
            "tags": []
          }
        }
      ]
    },
    {
      "cell_type": "markdown",
      "metadata": {
        "id": "DkEru8xzx5d8"
      },
      "source": [
        "# Mapping For Gender"
      ]
    },
    {
      "cell_type": "code",
      "metadata": {
        "colab": {
          "base_uri": "https://localhost:8080/"
        },
        "id": "0NViR8eAyAaD",
        "outputId": "add73bb2-d263-4ad7-c5ff-e6f2cd8a1911"
      },
      "source": [
        "maped_data = [temp_data]\n",
        "\n",
        "gender_mapping = {\"Male\": 0, \"Female\": 1, \"Other\": 2}\n",
        "for dataset in maped_data:\n",
        "    dataset['new_gender'] = dataset['gender'].map(gender_mapping)"
      ],
      "execution_count": 151,
      "outputs": [
        {
          "output_type": "stream",
          "text": [
            "/usr/local/lib/python3.7/dist-packages/ipykernel_launcher.py:5: SettingWithCopyWarning: \n",
            "A value is trying to be set on a copy of a slice from a DataFrame.\n",
            "Try using .loc[row_indexer,col_indexer] = value instead\n",
            "\n",
            "See the caveats in the documentation: https://pandas.pydata.org/pandas-docs/stable/user_guide/indexing.html#returning-a-view-versus-a-copy\n",
            "  \"\"\"\n"
          ],
          "name": "stderr"
        }
      ]
    },
    {
      "cell_type": "code",
      "metadata": {
        "colab": {
          "base_uri": "https://localhost:8080/",
          "height": 0
        },
        "id": "zy-F5fHnz5P7",
        "outputId": "5e123eee-df04-48a2-a811-6122d3e0602a"
      },
      "source": [
        "temp_data.head()\n"
      ],
      "execution_count": 152,
      "outputs": [
        {
          "output_type": "execute_result",
          "data": {
            "text/html": [
              "<div>\n",
              "<style scoped>\n",
              "    .dataframe tbody tr th:only-of-type {\n",
              "        vertical-align: middle;\n",
              "    }\n",
              "\n",
              "    .dataframe tbody tr th {\n",
              "        vertical-align: top;\n",
              "    }\n",
              "\n",
              "    .dataframe thead th {\n",
              "        text-align: right;\n",
              "    }\n",
              "</style>\n",
              "<table border=\"1\" class=\"dataframe\">\n",
              "  <thead>\n",
              "    <tr style=\"text-align: right;\">\n",
              "      <th></th>\n",
              "      <th>gender</th>\n",
              "      <th>age</th>\n",
              "      <th>diabetes</th>\n",
              "      <th>hypertension</th>\n",
              "      <th>stroke</th>\n",
              "      <th>heart disease</th>\n",
              "      <th>smoking history</th>\n",
              "      <th>BMI</th>\n",
              "      <th>disease</th>\n",
              "      <th>new_gender</th>\n",
              "    </tr>\n",
              "  </thead>\n",
              "  <tbody>\n",
              "    <tr>\n",
              "      <th>0</th>\n",
              "      <td>Female</td>\n",
              "      <td>80.0</td>\n",
              "      <td>0</td>\n",
              "      <td>0</td>\n",
              "      <td>0</td>\n",
              "      <td>1</td>\n",
              "      <td>never</td>\n",
              "      <td>25.19</td>\n",
              "      <td>1</td>\n",
              "      <td>1</td>\n",
              "    </tr>\n",
              "    <tr>\n",
              "      <th>3</th>\n",
              "      <td>Female</td>\n",
              "      <td>36.0</td>\n",
              "      <td>0</td>\n",
              "      <td>0</td>\n",
              "      <td>0</td>\n",
              "      <td>0</td>\n",
              "      <td>current</td>\n",
              "      <td>23.45</td>\n",
              "      <td>0</td>\n",
              "      <td>1</td>\n",
              "    </tr>\n",
              "    <tr>\n",
              "      <th>4</th>\n",
              "      <td>Male</td>\n",
              "      <td>76.0</td>\n",
              "      <td>0</td>\n",
              "      <td>1</td>\n",
              "      <td>0</td>\n",
              "      <td>1</td>\n",
              "      <td>current</td>\n",
              "      <td>20.14</td>\n",
              "      <td>1</td>\n",
              "      <td>0</td>\n",
              "    </tr>\n",
              "    <tr>\n",
              "      <th>6</th>\n",
              "      <td>Female</td>\n",
              "      <td>44.0</td>\n",
              "      <td>1</td>\n",
              "      <td>0</td>\n",
              "      <td>0</td>\n",
              "      <td>0</td>\n",
              "      <td>never</td>\n",
              "      <td>19.31</td>\n",
              "      <td>1</td>\n",
              "      <td>1</td>\n",
              "    </tr>\n",
              "    <tr>\n",
              "      <th>8</th>\n",
              "      <td>Male</td>\n",
              "      <td>42.0</td>\n",
              "      <td>0</td>\n",
              "      <td>0</td>\n",
              "      <td>0</td>\n",
              "      <td>0</td>\n",
              "      <td>never</td>\n",
              "      <td>33.64</td>\n",
              "      <td>0</td>\n",
              "      <td>0</td>\n",
              "    </tr>\n",
              "  </tbody>\n",
              "</table>\n",
              "</div>"
            ],
            "text/plain": [
              "   gender   age  diabetes  ...    BMI  disease  new_gender\n",
              "0  Female  80.0         0  ...  25.19        1           1\n",
              "3  Female  36.0         0  ...  23.45        0           1\n",
              "4    Male  76.0         0  ...  20.14        1           0\n",
              "6  Female  44.0         1  ...  19.31        1           1\n",
              "8    Male  42.0         0  ...  33.64        0           0\n",
              "\n",
              "[5 rows x 10 columns]"
            ]
          },
          "metadata": {
            "tags": []
          },
          "execution_count": 152
        }
      ]
    },
    {
      "cell_type": "markdown",
      "metadata": {
        "id": "MlbkZnSS0rb8"
      },
      "source": [
        "# Mapping For Smoke History "
      ]
    },
    {
      "cell_type": "code",
      "metadata": {
        "colab": {
          "base_uri": "https://localhost:8080/"
        },
        "id": "NDi3ZmSV03G8",
        "outputId": "467868db-041d-4750-f898-75b11eecda3d"
      },
      "source": [
        "s_history_mapping = {\"never\": 0, \"former\": 1,\"current\": 1, \"not current\": 1, \"ever\": 1}\n",
        "for dataset in maped_data:\n",
        "    dataset['smoking_history'] = dataset['smoking history'].map(s_history_mapping)"
      ],
      "execution_count": 153,
      "outputs": [
        {
          "output_type": "stream",
          "text": [
            "/usr/local/lib/python3.7/dist-packages/ipykernel_launcher.py:3: SettingWithCopyWarning: \n",
            "A value is trying to be set on a copy of a slice from a DataFrame.\n",
            "Try using .loc[row_indexer,col_indexer] = value instead\n",
            "\n",
            "See the caveats in the documentation: https://pandas.pydata.org/pandas-docs/stable/user_guide/indexing.html#returning-a-view-versus-a-copy\n",
            "  This is separate from the ipykernel package so we can avoid doing imports until\n"
          ],
          "name": "stderr"
        }
      ]
    },
    {
      "cell_type": "code",
      "metadata": {
        "colab": {
          "base_uri": "https://localhost:8080/",
          "height": 0
        },
        "id": "NaLSqWSp2wDW",
        "outputId": "5cee7df1-9907-4f5a-a8f9-a0dcffaaa079"
      },
      "source": [
        "temp_data.head()"
      ],
      "execution_count": 154,
      "outputs": [
        {
          "output_type": "execute_result",
          "data": {
            "text/html": [
              "<div>\n",
              "<style scoped>\n",
              "    .dataframe tbody tr th:only-of-type {\n",
              "        vertical-align: middle;\n",
              "    }\n",
              "\n",
              "    .dataframe tbody tr th {\n",
              "        vertical-align: top;\n",
              "    }\n",
              "\n",
              "    .dataframe thead th {\n",
              "        text-align: right;\n",
              "    }\n",
              "</style>\n",
              "<table border=\"1\" class=\"dataframe\">\n",
              "  <thead>\n",
              "    <tr style=\"text-align: right;\">\n",
              "      <th></th>\n",
              "      <th>gender</th>\n",
              "      <th>age</th>\n",
              "      <th>diabetes</th>\n",
              "      <th>hypertension</th>\n",
              "      <th>stroke</th>\n",
              "      <th>heart disease</th>\n",
              "      <th>smoking history</th>\n",
              "      <th>BMI</th>\n",
              "      <th>disease</th>\n",
              "      <th>new_gender</th>\n",
              "      <th>smoking_history</th>\n",
              "    </tr>\n",
              "  </thead>\n",
              "  <tbody>\n",
              "    <tr>\n",
              "      <th>0</th>\n",
              "      <td>Female</td>\n",
              "      <td>80.0</td>\n",
              "      <td>0</td>\n",
              "      <td>0</td>\n",
              "      <td>0</td>\n",
              "      <td>1</td>\n",
              "      <td>never</td>\n",
              "      <td>25.19</td>\n",
              "      <td>1</td>\n",
              "      <td>1</td>\n",
              "      <td>0</td>\n",
              "    </tr>\n",
              "    <tr>\n",
              "      <th>3</th>\n",
              "      <td>Female</td>\n",
              "      <td>36.0</td>\n",
              "      <td>0</td>\n",
              "      <td>0</td>\n",
              "      <td>0</td>\n",
              "      <td>0</td>\n",
              "      <td>current</td>\n",
              "      <td>23.45</td>\n",
              "      <td>0</td>\n",
              "      <td>1</td>\n",
              "      <td>1</td>\n",
              "    </tr>\n",
              "    <tr>\n",
              "      <th>4</th>\n",
              "      <td>Male</td>\n",
              "      <td>76.0</td>\n",
              "      <td>0</td>\n",
              "      <td>1</td>\n",
              "      <td>0</td>\n",
              "      <td>1</td>\n",
              "      <td>current</td>\n",
              "      <td>20.14</td>\n",
              "      <td>1</td>\n",
              "      <td>0</td>\n",
              "      <td>1</td>\n",
              "    </tr>\n",
              "    <tr>\n",
              "      <th>6</th>\n",
              "      <td>Female</td>\n",
              "      <td>44.0</td>\n",
              "      <td>1</td>\n",
              "      <td>0</td>\n",
              "      <td>0</td>\n",
              "      <td>0</td>\n",
              "      <td>never</td>\n",
              "      <td>19.31</td>\n",
              "      <td>1</td>\n",
              "      <td>1</td>\n",
              "      <td>0</td>\n",
              "    </tr>\n",
              "    <tr>\n",
              "      <th>8</th>\n",
              "      <td>Male</td>\n",
              "      <td>42.0</td>\n",
              "      <td>0</td>\n",
              "      <td>0</td>\n",
              "      <td>0</td>\n",
              "      <td>0</td>\n",
              "      <td>never</td>\n",
              "      <td>33.64</td>\n",
              "      <td>0</td>\n",
              "      <td>0</td>\n",
              "      <td>0</td>\n",
              "    </tr>\n",
              "  </tbody>\n",
              "</table>\n",
              "</div>"
            ],
            "text/plain": [
              "   gender   age  diabetes  ...  disease  new_gender  smoking_history\n",
              "0  Female  80.0         0  ...        1           1                0\n",
              "3  Female  36.0         0  ...        0           1                1\n",
              "4    Male  76.0         0  ...        1           0                1\n",
              "6  Female  44.0         1  ...        1           1                0\n",
              "8    Male  42.0         0  ...        0           0                0\n",
              "\n",
              "[5 rows x 11 columns]"
            ]
          },
          "metadata": {
            "tags": []
          },
          "execution_count": 154
        }
      ]
    },
    {
      "cell_type": "markdown",
      "metadata": {
        "id": "Jt4l8so630GM"
      },
      "source": [
        "# Drop Unnecessary Column (gender, diabetes, stroke, heart disease, smoking history)"
      ]
    },
    {
      "cell_type": "code",
      "metadata": {
        "colab": {
          "base_uri": "https://localhost:8080/"
        },
        "id": "vTpod2oC4L2r",
        "outputId": "079daec0-d903-4330-ff08-e778b984bd4b"
      },
      "source": [
        "temp_data.drop('gender', axis=1, inplace=True)"
      ],
      "execution_count": 155,
      "outputs": [
        {
          "output_type": "stream",
          "text": [
            "/usr/local/lib/python3.7/dist-packages/pandas/core/frame.py:4174: SettingWithCopyWarning: \n",
            "A value is trying to be set on a copy of a slice from a DataFrame\n",
            "\n",
            "See the caveats in the documentation: https://pandas.pydata.org/pandas-docs/stable/user_guide/indexing.html#returning-a-view-versus-a-copy\n",
            "  errors=errors,\n"
          ],
          "name": "stderr"
        }
      ]
    },
    {
      "cell_type": "code",
      "metadata": {
        "colab": {
          "base_uri": "https://localhost:8080/"
        },
        "id": "Ip6fcAw74TxU",
        "outputId": "a10dd4c1-c632-4d4c-9081-df6ed9cf5668"
      },
      "source": [
        "temp_data.drop('diabetes', axis=1, inplace=True)\n",
        "temp_data.drop('stroke', axis=1, inplace=True)\n",
        "temp_data.drop('heart disease', axis=1, inplace=True)"
      ],
      "execution_count": 156,
      "outputs": [
        {
          "output_type": "stream",
          "text": [
            "/usr/local/lib/python3.7/dist-packages/pandas/core/frame.py:4174: SettingWithCopyWarning: \n",
            "A value is trying to be set on a copy of a slice from a DataFrame\n",
            "\n",
            "See the caveats in the documentation: https://pandas.pydata.org/pandas-docs/stable/user_guide/indexing.html#returning-a-view-versus-a-copy\n",
            "  errors=errors,\n"
          ],
          "name": "stderr"
        }
      ]
    },
    {
      "cell_type": "code",
      "metadata": {
        "colab": {
          "base_uri": "https://localhost:8080/"
        },
        "id": "fK6csYtJ4UWj",
        "outputId": "e43adf5c-6295-467a-f668-f87cc108aeeb"
      },
      "source": [
        "temp_data.drop('smoking history', axis=1, inplace=True)"
      ],
      "execution_count": 157,
      "outputs": [
        {
          "output_type": "stream",
          "text": [
            "/usr/local/lib/python3.7/dist-packages/pandas/core/frame.py:4174: SettingWithCopyWarning: \n",
            "A value is trying to be set on a copy of a slice from a DataFrame\n",
            "\n",
            "See the caveats in the documentation: https://pandas.pydata.org/pandas-docs/stable/user_guide/indexing.html#returning-a-view-versus-a-copy\n",
            "  errors=errors,\n"
          ],
          "name": "stderr"
        }
      ]
    },
    {
      "cell_type": "code",
      "metadata": {
        "colab": {
          "base_uri": "https://localhost:8080/",
          "height": 0
        },
        "id": "H4Wv96nR5AmW",
        "outputId": "51ea58f3-e076-46eb-9bea-85e4bababb00"
      },
      "source": [
        "temp_data.head()"
      ],
      "execution_count": 158,
      "outputs": [
        {
          "output_type": "execute_result",
          "data": {
            "text/html": [
              "<div>\n",
              "<style scoped>\n",
              "    .dataframe tbody tr th:only-of-type {\n",
              "        vertical-align: middle;\n",
              "    }\n",
              "\n",
              "    .dataframe tbody tr th {\n",
              "        vertical-align: top;\n",
              "    }\n",
              "\n",
              "    .dataframe thead th {\n",
              "        text-align: right;\n",
              "    }\n",
              "</style>\n",
              "<table border=\"1\" class=\"dataframe\">\n",
              "  <thead>\n",
              "    <tr style=\"text-align: right;\">\n",
              "      <th></th>\n",
              "      <th>age</th>\n",
              "      <th>hypertension</th>\n",
              "      <th>BMI</th>\n",
              "      <th>disease</th>\n",
              "      <th>new_gender</th>\n",
              "      <th>smoking_history</th>\n",
              "    </tr>\n",
              "  </thead>\n",
              "  <tbody>\n",
              "    <tr>\n",
              "      <th>0</th>\n",
              "      <td>80.0</td>\n",
              "      <td>0</td>\n",
              "      <td>25.19</td>\n",
              "      <td>1</td>\n",
              "      <td>1</td>\n",
              "      <td>0</td>\n",
              "    </tr>\n",
              "    <tr>\n",
              "      <th>3</th>\n",
              "      <td>36.0</td>\n",
              "      <td>0</td>\n",
              "      <td>23.45</td>\n",
              "      <td>0</td>\n",
              "      <td>1</td>\n",
              "      <td>1</td>\n",
              "    </tr>\n",
              "    <tr>\n",
              "      <th>4</th>\n",
              "      <td>76.0</td>\n",
              "      <td>1</td>\n",
              "      <td>20.14</td>\n",
              "      <td>1</td>\n",
              "      <td>0</td>\n",
              "      <td>1</td>\n",
              "    </tr>\n",
              "    <tr>\n",
              "      <th>6</th>\n",
              "      <td>44.0</td>\n",
              "      <td>0</td>\n",
              "      <td>19.31</td>\n",
              "      <td>1</td>\n",
              "      <td>1</td>\n",
              "      <td>0</td>\n",
              "    </tr>\n",
              "    <tr>\n",
              "      <th>8</th>\n",
              "      <td>42.0</td>\n",
              "      <td>0</td>\n",
              "      <td>33.64</td>\n",
              "      <td>0</td>\n",
              "      <td>0</td>\n",
              "      <td>0</td>\n",
              "    </tr>\n",
              "  </tbody>\n",
              "</table>\n",
              "</div>"
            ],
            "text/plain": [
              "    age  hypertension    BMI  disease  new_gender  smoking_history\n",
              "0  80.0             0  25.19        1           1                0\n",
              "3  36.0             0  23.45        0           1                1\n",
              "4  76.0             1  20.14        1           0                1\n",
              "6  44.0             0  19.31        1           1                0\n",
              "8  42.0             0  33.64        0           0                0"
            ]
          },
          "metadata": {
            "tags": []
          },
          "execution_count": 158
        }
      ]
    },
    {
      "cell_type": "markdown",
      "metadata": {
        "id": "sMDVOwDSLaTV"
      },
      "source": [
        "# Age Dividing"
      ]
    },
    {
      "cell_type": "markdown",
      "metadata": {
        "id": "jIJXSdop7ego"
      },
      "source": [
        "Setting up combined value of disease column"
      ]
    },
    {
      "cell_type": "code",
      "metadata": {
        "colab": {
          "base_uri": "https://localhost:8080/"
        },
        "id": "m-iMnivo6bYr",
        "outputId": "ab22ef44-7212-48e4-8bee-db5dd6a292db"
      },
      "source": [
        "disease_mapping = {0: 0, 1: 1, 2: 1, 3: 1}\n",
        "for dataset in maped_data:\n",
        "    dataset['disease'] = dataset['disease'].map(disease_mapping)"
      ],
      "execution_count": 159,
      "outputs": [
        {
          "output_type": "stream",
          "text": [
            "/usr/local/lib/python3.7/dist-packages/ipykernel_launcher.py:3: SettingWithCopyWarning: \n",
            "A value is trying to be set on a copy of a slice from a DataFrame.\n",
            "Try using .loc[row_indexer,col_indexer] = value instead\n",
            "\n",
            "See the caveats in the documentation: https://pandas.pydata.org/pandas-docs/stable/user_guide/indexing.html#returning-a-view-versus-a-copy\n",
            "  This is separate from the ipykernel package so we can avoid doing imports until\n"
          ],
          "name": "stderr"
        }
      ]
    },
    {
      "cell_type": "code",
      "metadata": {
        "colab": {
          "base_uri": "https://localhost:8080/",
          "height": 0
        },
        "id": "wrWADsnB0Eo_",
        "outputId": "86b0cdf9-12d5-469f-fdc8-a02491a17f7a"
      },
      "source": [
        "facet = sns.FacetGrid(temp_data, hue='disease',aspect=5)\n",
        "facet.map(sns.kdeplot,'age',shade= True)\n",
        "facet.set(xlim=(0, temp_data['age'].max()))\n",
        "facet.add_legend()\n",
        "plt.show()"
      ],
      "execution_count": 160,
      "outputs": [
        {
          "output_type": "display_data",
          "data": {
            "image/png": "[encoded data removed]",
            "text/plain": [
              "<Figure size 1134.8x216 with 1 Axes>"
            ]
          },
          "metadata": {
            "tags": []
          }
        }
      ]
    },
    {
      "cell_type": "code",
      "metadata": {
        "colab": {
          "base_uri": "https://localhost:8080/",
          "height": 0
        },
        "id": "r4iTu5EQ5aQG",
        "outputId": "feadf3a9-f360-45ea-a745-f60d636614dd"
      },
      "source": [
        "facet = sns.FacetGrid(temp_data, hue=\"disease\",aspect=4)\n",
        "facet.map(sns.kdeplot,'age',shade= True)\n",
        "facet.set(xlim=(0, temp_data['age'].max()))\n",
        "facet.add_legend()\n",
        "plt.xlim(0, 30)"
      ],
      "execution_count": 161,
      "outputs": [
        {
          "output_type": "execute_result",
          "data": {
            "text/plain": [
              "(0.0, 30.0)"
            ]
          },
          "metadata": {
            "tags": []
          },
          "execution_count": 161
        },
        {
          "output_type": "display_data",
          "data": {
            "image/png": "[encoded data removed]",
            "text/plain": [
              "<Figure size 918.8x216 with 1 Axes>"
            ]
          },
          "metadata": {
            "tags": []
          }
        }
      ]
    },
    {
      "cell_type": "code",
      "metadata": {
        "colab": {
          "base_uri": "https://localhost:8080/",
          "height": 0
        },
        "id": "JowpOEofTLYQ",
        "outputId": "2e31853e-24d3-4f0a-e8a4-c66734d2da4a"
      },
      "source": [
        "facet = sns.FacetGrid(temp_data, hue=\"disease\",aspect=4)\n",
        "facet.map(sns.kdeplot,'age',shade= True)\n",
        "facet.set(xlim=(0, temp_data['age'].max()))\n",
        "facet.add_legend()\n",
        "plt.xlim(30, 50)"
      ],
      "execution_count": 162,
      "outputs": [
        {
          "output_type": "execute_result",
          "data": {
            "text/plain": [
              "(30.0, 50.0)"
            ]
          },
          "metadata": {
            "tags": []
          },
          "execution_count": 162
        },
        {
          "output_type": "display_data",
          "data": {
            "image/png": "[encoded data removed]",
            "text/plain": [
              "<Figure size 918.8x216 with 1 Axes>"
            ]
          },
          "metadata": {
            "tags": []
          }
        }
      ]
    },
    {
      "cell_type": "code",
      "metadata": {
        "colab": {
          "base_uri": "https://localhost:8080/",
          "height": 0
        },
        "id": "8F5HqgZfTdMn",
        "outputId": "9a474f73-aebb-4f01-ba19-449c1b608281"
      },
      "source": [
        "facet = sns.FacetGrid(temp_data, hue=\"disease\",aspect=4)\n",
        "facet.map(sns.kdeplot,'age',shade= True)\n",
        "facet.set(xlim=(0, temp_data['age'].max()))\n",
        "facet.add_legend()\n",
        "plt.xlim(50, 90)"
      ],
      "execution_count": 163,
      "outputs": [
        {
          "output_type": "execute_result",
          "data": {
            "text/plain": [
              "(50.0, 90.0)"
            ]
          },
          "metadata": {
            "tags": []
          },
          "execution_count": 163
        },
        {
          "output_type": "display_data",
          "data": {
            "image/png": "[encoded data removed]",
            "text/plain": [
              "<Figure size 918.8x216 with 1 Axes>"
            ]
          },
          "metadata": {
            "tags": []
          }
        }
      ]
    },
    {
      "cell_type": "markdown",
      "metadata": {
        "id": "OY1nO39DT6HX"
      },
      "source": [
        "**Dividing age**\n",
        "\n",
        "0 for 0-30\n",
        "\n",
        "1 for 31-50\n",
        "\n",
        "2 for 51-65\n",
        "\n",
        "3 for 66-85\n",
        "\n",
        "4 for 86-rest"
      ]
    },
    {
      "cell_type": "code",
      "metadata": {
        "colab": {
          "base_uri": "https://localhost:8080/",
          "height": 0
        },
        "id": "aYvNlKfkT5F_",
        "outputId": "021e6d32-1e22-4c2e-f0e8-2e237be9d00e"
      },
      "source": [
        "\"\"\"\n",
        "for dataset in temp_data:\n",
        "    dataset.loc[(dataset['age'] <= 30), 'age'] = 0\n",
        "    dataset.loc[(dataset['age'] > 30) & (dataset['age'] <= 50), 'age'] = 1\n",
        "    dataset.loc[(dataset['age'] > 50) & (dataset['age'] <= 65), 'age'] = 2\n",
        "    dataset.loc[(dataset['age'] > 65) & (dataset['age'] <= 80), 'age'] = 3\n",
        "    dataset.loc[ dataset['age'] > 80, 'age'] = 4\n",
        "\"\"\""
      ],
      "execution_count": 164,
      "outputs": [
        {
          "output_type": "execute_result",
          "data": {
            "application/vnd.google.colaboratory.intrinsic+json": {
              "type": "string"
            },
            "text/plain": [
              "\"\\nfor dataset in temp_data:\\n    dataset.loc[(dataset['age'] <= 30), 'age'] = 0\\n    dataset.loc[(dataset['age'] > 30) & (dataset['age'] <= 50), 'age'] = 1\\n    dataset.loc[(dataset['age'] > 50) & (dataset['age'] <= 65), 'age'] = 2\\n    dataset.loc[(dataset['age'] > 65) & (dataset['age'] <= 80), 'age'] = 3\\n    dataset.loc[ dataset['age'] > 80, 'age'] = 4\\n\""
            ]
          },
          "metadata": {
            "tags": []
          },
          "execution_count": 164
        }
      ]
    },
    {
      "cell_type": "code",
      "metadata": {
        "colab": {
          "base_uri": "https://localhost:8080/"
        },
        "id": "M4cAT6iRdB8J",
        "outputId": "026c808d-8395-472a-e631-feb70a1f0034"
      },
      "source": [
        "r = [0,30,50,65, 85, 100]\n",
        "g = [0, 1, 2, 3, 4]\n",
        "temp_data['age'] = pd.cut(temp_data['age'], bins = r, labels = g)"
      ],
      "execution_count": 165,
      "outputs": [
        {
          "output_type": "stream",
          "text": [
            "/usr/local/lib/python3.7/dist-packages/ipykernel_launcher.py:3: SettingWithCopyWarning: \n",
            "A value is trying to be set on a copy of a slice from a DataFrame.\n",
            "Try using .loc[row_indexer,col_indexer] = value instead\n",
            "\n",
            "See the caveats in the documentation: https://pandas.pydata.org/pandas-docs/stable/user_guide/indexing.html#returning-a-view-versus-a-copy\n",
            "  This is separate from the ipykernel package so we can avoid doing imports until\n"
          ],
          "name": "stderr"
        }
      ]
    },
    {
      "cell_type": "code",
      "metadata": {
        "colab": {
          "base_uri": "https://localhost:8080/",
          "height": 0
        },
        "id": "ebS7tEfteuuY",
        "outputId": "3307515e-d774-4a33-c3d8-003110fea83a"
      },
      "source": [
        "bar_chart('age')"
      ],
      "execution_count": 166,
      "outputs": [
        {
          "output_type": "display_data",
          "data": {
            "image/png": "[encoded data removed]",
            "text/plain": [
              "<Figure size 720x360 with 1 Axes>"
            ]
          },
          "metadata": {
            "tags": []
          }
        }
      ]
    },
    {
      "cell_type": "markdown",
      "metadata": {
        "id": "y0gSqvPdgTep"
      },
      "source": [
        "# Dividing BMI"
      ]
    },
    {
      "cell_type": "code",
      "metadata": {
        "colab": {
          "base_uri": "https://localhost:8080/",
          "height": 0
        },
        "id": "obyttiTrgyiR",
        "outputId": "d80ae2b0-cf35-41ca-bac4-816b7796d157"
      },
      "source": [
        "facet = sns.FacetGrid(temp_data, hue=\"disease\",aspect=5)\n",
        "facet.map(sns.kdeplot,'BMI',shade= True)\n",
        "facet.set(xlim=(0, temp_data['BMI'].max()))\n",
        "facet.add_legend()\n",
        "plt.show()\n",
        "#plt.xlim(0, 30)"
      ],
      "execution_count": 167,
      "outputs": [
        {
          "output_type": "display_data",
          "data": {
            "image/png": "[encoded data removed]",
            "text/plain": [
              "<Figure size 1134.8x216 with 1 Axes>"
            ]
          },
          "metadata": {
            "tags": []
          }
        }
      ]
    },
    {
      "cell_type": "code",
      "metadata": {
        "colab": {
          "base_uri": "https://localhost:8080/",
          "height": 0
        },
        "id": "8YnH5goSg9hW",
        "outputId": "b02132fe-545e-4c9a-fdac-1c6b0c8420d3"
      },
      "source": [
        "facet = sns.FacetGrid(temp_data, hue=\"disease\",aspect=5)\n",
        "facet.map(sns.kdeplot,'BMI',shade= True)\n",
        "facet.set(xlim=(0, temp_data['BMI'].max()))\n",
        "facet.add_legend()\n",
        "plt.xlim(0, 20)"
      ],
      "execution_count": 168,
      "outputs": [
        {
          "output_type": "execute_result",
          "data": {
            "text/plain": [
              "(0.0, 20.0)"
            ]
          },
          "metadata": {
            "tags": []
          },
          "execution_count": 168
        },
        {
          "output_type": "display_data",
          "data": {
            "image/png": "[encoded data removed]",
            "text/plain": [
              "<Figure size 1134.8x216 with 1 Axes>"
            ]
          },
          "metadata": {
            "tags": []
          }
        }
      ]
    },
    {
      "cell_type": "code",
      "metadata": {
        "colab": {
          "base_uri": "https://localhost:8080/",
          "height": 0
        },
        "id": "ua4mPshThMry",
        "outputId": "c4ccb3ee-706a-4342-d9e8-85faf0a0e74b"
      },
      "source": [
        "facet = sns.FacetGrid(temp_data, hue=\"disease\",aspect=5)\n",
        "facet.map(sns.kdeplot,'BMI',shade= True)\n",
        "facet.set(xlim=(0, temp_data['BMI'].max()))\n",
        "facet.add_legend()\n",
        "plt.xlim(20, 25)"
      ],
      "execution_count": 169,
      "outputs": [
        {
          "output_type": "execute_result",
          "data": {
            "text/plain": [
              "(20.0, 25.0)"
            ]
          },
          "metadata": {
            "tags": []
          },
          "execution_count": 169
        },
        {
          "output_type": "display_data",
          "data": {
            "image/png": "[encoded data removed]",
            "text/plain": [
              "<Figure size 1134.8x216 with 1 Axes>"
            ]
          },
          "metadata": {
            "tags": []
          }
        }
      ]
    },
    {
      "cell_type": "code",
      "metadata": {
        "colab": {
          "base_uri": "https://localhost:8080/",
          "height": 0
        },
        "id": "dQenp1QxhQsp",
        "outputId": "848633f7-6ac6-48f2-83d7-19afb94d0103"
      },
      "source": [
        "facet = sns.FacetGrid(temp_data, hue=\"disease\",aspect=5)\n",
        "facet.map(sns.kdeplot,'BMI',shade= True)\n",
        "facet.set(xlim=(0, temp_data['BMI'].max()))\n",
        "facet.add_legend()\n",
        "plt.xlim(25, 35)"
      ],
      "execution_count": 170,
      "outputs": [
        {
          "output_type": "execute_result",
          "data": {
            "text/plain": [
              "(25.0, 35.0)"
            ]
          },
          "metadata": {
            "tags": []
          },
          "execution_count": 170
        },
        {
          "output_type": "display_data",
          "data": {
            "image/png": "[encoded data removed]",
            "text/plain": [
              "<Figure size 1134.8x216 with 1 Axes>"
            ]
          },
          "metadata": {
            "tags": []
          }
        }
      ]
    },
    {
      "cell_type": "code",
      "metadata": {
        "colab": {
          "base_uri": "https://localhost:8080/",
          "height": 0
        },
        "id": "fojSn8wXhbau",
        "outputId": "de19cfa8-0d5b-4d54-f8d1-f868a27b0d93"
      },
      "source": [
        "facet = sns.FacetGrid(temp_data, hue=\"disease\",aspect=5)\n",
        "facet.map(sns.kdeplot,'BMI',shade= True)\n",
        "facet.set(xlim=(0, temp_data['BMI'].max()))\n",
        "facet.add_legend()\n",
        "plt.xlim(35, 50)"
      ],
      "execution_count": 171,
      "outputs": [
        {
          "output_type": "execute_result",
          "data": {
            "text/plain": [
              "(35.0, 50.0)"
            ]
          },
          "metadata": {
            "tags": []
          },
          "execution_count": 171
        },
        {
          "output_type": "display_data",
          "data": {
            "image/png": "[encoded data removed]",
            "text/plain": [
              "<Figure size 1134.8x216 with 1 Axes>"
            ]
          },
          "metadata": {
            "tags": []
          }
        }
      ]
    },
    {
      "cell_type": "markdown",
      "metadata": {
        "id": "iV9oxQu8igGQ"
      },
      "source": [
        "0 for 0-15\n",
        "\n",
        "1 for 15-25\n",
        "\n",
        "2 for 25-35\n",
        "\n",
        "3 for 35-50"
      ]
    },
    {
      "cell_type": "code",
      "metadata": {
        "colab": {
          "base_uri": "https://localhost:8080/"
        },
        "id": "2L5JK273hjYu",
        "outputId": "0a35acac-b4f5-4a57-cf46-5fb7edd40a1c"
      },
      "source": [
        "r = [0,15,25,35,50]\n",
        "g = [0, 1, 2, 3]\n",
        "temp_data['BMI'] = pd.cut(temp_data['BMI'], bins = r, labels = g)"
      ],
      "execution_count": 172,
      "outputs": [
        {
          "output_type": "stream",
          "text": [
            "/usr/local/lib/python3.7/dist-packages/ipykernel_launcher.py:3: SettingWithCopyWarning: \n",
            "A value is trying to be set on a copy of a slice from a DataFrame.\n",
            "Try using .loc[row_indexer,col_indexer] = value instead\n",
            "\n",
            "See the caveats in the documentation: https://pandas.pydata.org/pandas-docs/stable/user_guide/indexing.html#returning-a-view-versus-a-copy\n",
            "  This is separate from the ipykernel package so we can avoid doing imports until\n"
          ],
          "name": "stderr"
        }
      ]
    },
    {
      "cell_type": "code",
      "metadata": {
        "colab": {
          "base_uri": "https://localhost:8080/",
          "height": 0
        },
        "id": "q0dkd0mOh0he",
        "outputId": "5833d037-2b9e-45d5-a36e-20688c34297d"
      },
      "source": [
        "bar_chart('BMI')"
      ],
      "execution_count": 173,
      "outputs": [
        {
          "output_type": "display_data",
          "data": {
            "image/png": "[encoded data removed]",
            "text/plain": [
              "<Figure size 720x360 with 1 Axes>"
            ]
          },
          "metadata": {
            "tags": []
          }
        }
      ]
    },
    {
      "cell_type": "markdown",
      "metadata": {
        "id": "ZVk1AT0u4Eto"
      },
      "source": [
        "# Dividing dataset"
      ]
    },
    {
      "cell_type": "code",
      "metadata": {
        "colab": {
          "base_uri": "https://localhost:8080/"
        },
        "id": "Io_ySBp54ISH",
        "outputId": "9278e735-3c2e-4c0b-e4cb-c6814c017fc1"
      },
      "source": [
        "train_data = temp_data.drop('disease', axis=1)     \n",
        "target = temp_data['disease']\n",
        "\n",
        "train_data.shape, target.shape"
      ],
      "execution_count": 174,
      "outputs": [
        {
          "output_type": "execute_result",
          "data": {
            "text/plain": [
              "((52175, 5), (52175,))"
            ]
          },
          "metadata": {
            "tags": []
          },
          "execution_count": 174
        }
      ]
    },
    {
      "cell_type": "markdown",
      "metadata": {
        "id": "PsE4dEoX5SsQ"
      },
      "source": [
        "# Splitting the dataset into train and test data"
      ]
    },
    {
      "cell_type": "code",
      "metadata": {
        "colab": {
          "base_uri": "https://localhost:8080/"
        },
        "id": "3XUerxaq5UdX",
        "outputId": "1605dae3-8223-4337-a8ef-e29587bb0d1c"
      },
      "source": [
        "from sklearn.model_selection import train_test_split\n",
        "X_train, X_test, y_train, y_test = train_test_split(train_data, target, test_size=.20, random_state=42)\n",
        "print(\"X_train: \", X_train.shape)\n",
        "print(\"X_test: \", X_test.shape)\n",
        "print(\"y_train: \", y_train.shape)\n",
        "print(\"y_test: \", y_test.shape)\n",
        "print(\"\\ny_test data\\n\",y_test)\n",
        "\n",
        "print(\"\\ny_test data's value count\\n\", y_test.value_counts())"
      ],
      "execution_count": 175,
      "outputs": [
        {
          "output_type": "stream",
          "text": [
            "X_train:  (41740, 5)\n",
            "X_test:  (10435, 5)\n",
            "y_train:  (41740,)\n",
            "y_test:  (10435,)\n",
            "\n",
            "y_test data\n",
            " 38128    0\n",
            "20450    0\n",
            "13205    0\n",
            "92323    0\n",
            "75956    0\n",
            "        ..\n",
            "5883     0\n",
            "54380    0\n",
            "83733    0\n",
            "20465    0\n",
            "7769     1\n",
            "Name: disease, Length: 10435, dtype: int64\n",
            "\n",
            "y_test data's value count\n",
            " 0    8748\n",
            "1    1687\n",
            "Name: disease, dtype: int64\n"
          ],
          "name": "stdout"
        }
      ]
    },
    {
      "cell_type": "markdown",
      "metadata": {
        "id": "R5oXOA6q8GUK"
      },
      "source": [
        "\n",
        "# Train the dataset using DecisionTreeClassifier and RandomForestClassifier"
      ]
    },
    {
      "cell_type": "markdown",
      "metadata": {
        "id": "_XI1Gqhc8Xvd"
      },
      "source": [
        "# DecisionTreeClassifier"
      ]
    },
    {
      "cell_type": "code",
      "metadata": {
        "id": "qIsL347z8Pga"
      },
      "source": [
        "from sklearn.tree import DecisionTreeClassifier\n",
        "\n",
        "dt = DecisionTreeClassifier()\n",
        "dt.fit(X_train, y_train)\n",
        "y_pred = dt.predict(X_test)"
      ],
      "execution_count": 176,
      "outputs": []
    },
    {
      "cell_type": "markdown",
      "metadata": {
        "id": "VSU9yxlp8gZM"
      },
      "source": [
        "Performance evaluation"
      ]
    },
    {
      "cell_type": "code",
      "metadata": {
        "colab": {
          "base_uri": "https://localhost:8080/"
        },
        "id": "V5GffqSN8hat",
        "outputId": "21533207-cf4f-4221-968e-87b7b5a86fb5"
      },
      "source": [
        "from sklearn.metrics import confusion_matrix,classification_report\n",
        "print(confusion_matrix(y_test, y_pred))\n",
        "print(classification_report(y_test,y_pred))"
      ],
      "execution_count": 177,
      "outputs": [
        {
          "output_type": "stream",
          "text": [
            "[[8596  152]\n",
            " [1470  217]]\n",
            "              precision    recall  f1-score   support\n",
            "\n",
            "           0       0.85      0.98      0.91      8748\n",
            "           1       0.59      0.13      0.21      1687\n",
            "\n",
            "    accuracy                           0.84     10435\n",
            "   macro avg       0.72      0.56      0.56     10435\n",
            "weighted avg       0.81      0.84      0.80     10435\n",
            "\n"
          ],
          "name": "stdout"
        }
      ]
    },
    {
      "cell_type": "markdown",
      "metadata": {
        "id": "IeHTYa3t8x8Z"
      },
      "source": [
        "Calculating accuracy"
      ]
    },
    {
      "cell_type": "code",
      "metadata": {
        "colab": {
          "base_uri": "https://localhost:8080/"
        },
        "id": "SQA8YF228yx2",
        "outputId": "fe13206d-a1c0-465b-a9cb-54c34cb80180"
      },
      "source": [
        "from sklearn.metrics import accuracy_score\n",
        "score_dt = accuracy_score(y_test, y_pred)\n",
        "print(score_dt)"
      ],
      "execution_count": 178,
      "outputs": [
        {
          "output_type": "stream",
          "text": [
            "0.8445615716339243\n"
          ],
          "name": "stdout"
        }
      ]
    },
    {
      "cell_type": "markdown",
      "metadata": {
        "id": "SWrXS9Jn88m1"
      },
      "source": [
        "# RandomForestClassifier"
      ]
    },
    {
      "cell_type": "code",
      "metadata": {
        "id": "SZtAVMSf9MZ9"
      },
      "source": [
        "from sklearn.ensemble import RandomForestClassifier\n",
        "\n",
        "rf = RandomForestClassifier()\n",
        "rf.fit(X_train, y_train)\n",
        "y_pred = rf.predict(X_test)"
      ],
      "execution_count": 179,
      "outputs": []
    },
    {
      "cell_type": "markdown",
      "metadata": {
        "id": "0RkutYV19S5N"
      },
      "source": [
        "Performance evaluation"
      ]
    },
    {
      "cell_type": "code",
      "metadata": {
        "colab": {
          "base_uri": "https://localhost:8080/"
        },
        "id": "at2vtQ3f9QE9",
        "outputId": "76133bf5-35b4-4cc0-b069-ba7f96662b6d"
      },
      "source": [
        "from sklearn.metrics import confusion_matrix,classification_report\n",
        "print(confusion_matrix(y_test, y_pred))\n",
        "print(classification_report(y_test,y_pred))"
      ],
      "execution_count": 180,
      "outputs": [
        {
          "output_type": "stream",
          "text": [
            "[[8610  138]\n",
            " [1496  191]]\n",
            "              precision    recall  f1-score   support\n",
            "\n",
            "           0       0.85      0.98      0.91      8748\n",
            "           1       0.58      0.11      0.19      1687\n",
            "\n",
            "    accuracy                           0.84     10435\n",
            "   macro avg       0.72      0.55      0.55     10435\n",
            "weighted avg       0.81      0.84      0.80     10435\n",
            "\n"
          ],
          "name": "stdout"
        }
      ]
    },
    {
      "cell_type": "markdown",
      "metadata": {
        "id": "NTF9-kaV9XyS"
      },
      "source": [
        "Calculating accuracy"
      ]
    },
    {
      "cell_type": "code",
      "metadata": {
        "colab": {
          "base_uri": "https://localhost:8080/"
        },
        "id": "qSGSEMwP9b7u",
        "outputId": "918abb1f-9ba4-4ccb-a57d-efd6b773f85e"
      },
      "source": [
        "from sklearn.metrics import accuracy_score\n",
        "score_rf = accuracy_score(y_test, y_pred)\n",
        "print(score_rf)"
      ],
      "execution_count": 181,
      "outputs": [
        {
          "output_type": "stream",
          "text": [
            "0.8434115955917585\n"
          ],
          "name": "stdout"
        }
      ]
    },
    {
      "cell_type": "markdown",
      "metadata": {
        "id": "3-o3eow0-COb"
      },
      "source": [
        "# KNeighborsClassifier"
      ]
    },
    {
      "cell_type": "code",
      "metadata": {
        "id": "XPznR14z-Ga0"
      },
      "source": [
        "from sklearn.neighbors import KNeighborsClassifier\n",
        "\n",
        "kn = KNeighborsClassifier()\n",
        "kn.fit(X_train, y_train)\n",
        "y_pred = kn.predict(X_test)"
      ],
      "execution_count": 182,
      "outputs": []
    },
    {
      "cell_type": "code",
      "metadata": {
        "colab": {
          "base_uri": "https://localhost:8080/"
        },
        "id": "Gqc7hZO2-r-u",
        "outputId": "51df9087-9c6e-4362-8ff8-0cc7e8c64b6b"
      },
      "source": [
        "from sklearn.metrics import confusion_matrix,classification_report\n",
        "print(confusion_matrix(y_test, y_pred))\n",
        "print(classification_report(y_test,y_pred))"
      ],
      "execution_count": 183,
      "outputs": [
        {
          "output_type": "stream",
          "text": [
            "[[7668 1080]\n",
            " [1038  649]]\n",
            "              precision    recall  f1-score   support\n",
            "\n",
            "           0       0.88      0.88      0.88      8748\n",
            "           1       0.38      0.38      0.38      1687\n",
            "\n",
            "    accuracy                           0.80     10435\n",
            "   macro avg       0.63      0.63      0.63     10435\n",
            "weighted avg       0.80      0.80      0.80     10435\n",
            "\n"
          ],
          "name": "stdout"
        }
      ]
    },
    {
      "cell_type": "code",
      "metadata": {
        "colab": {
          "base_uri": "https://localhost:8080/"
        },
        "id": "HaUIqKXL-tsr",
        "outputId": "21c21208-f884-49c7-ba3a-db9a41ee2ec5"
      },
      "source": [
        "from sklearn.metrics import accuracy_score\n",
        "score_kn = accuracy_score(y_test, y_pred)\n",
        "print(score_kn)"
      ],
      "execution_count": 184,
      "outputs": [
        {
          "output_type": "stream",
          "text": [
            "0.7970292285577384\n"
          ],
          "name": "stdout"
        }
      ]
    },
    {
      "cell_type": "markdown",
      "metadata": {
        "id": "Zbq8pA9a_Abg"
      },
      "source": [
        "# LogisticRegression"
      ]
    },
    {
      "cell_type": "code",
      "metadata": {
        "id": "IuOs5TTh_EW5"
      },
      "source": [
        "from sklearn.linear_model import LogisticRegression\n",
        "\n",
        "lr = LogisticRegression(max_iter=1000)\n",
        "lr.fit(X_train, y_train)\n",
        "y_pred = lr.predict(X_test)"
      ],
      "execution_count": 185,
      "outputs": []
    },
    {
      "cell_type": "code",
      "metadata": {
        "colab": {
          "base_uri": "https://localhost:8080/"
        },
        "id": "UtIYl73d_RCk",
        "outputId": "8112541c-9ab8-4f0f-ab23-d6abb2d9bf86"
      },
      "source": [
        "from sklearn.metrics import confusion_matrix,classification_report\n",
        "print(confusion_matrix(y_test, y_pred))\n",
        "print(classification_report(y_test,y_pred))"
      ],
      "execution_count": 186,
      "outputs": [
        {
          "output_type": "stream",
          "text": [
            "[[ 109 8639]\n",
            " [  46 1641]]\n",
            "              precision    recall  f1-score   support\n",
            "\n",
            "           0       0.70      0.01      0.02      8748\n",
            "           1       0.16      0.97      0.27      1687\n",
            "\n",
            "    accuracy                           0.17     10435\n",
            "   macro avg       0.43      0.49      0.15     10435\n",
            "weighted avg       0.62      0.17      0.06     10435\n",
            "\n"
          ],
          "name": "stdout"
        }
      ]
    },
    {
      "cell_type": "code",
      "metadata": {
        "colab": {
          "base_uri": "https://localhost:8080/"
        },
        "id": "CdcHmaAj_S1t",
        "outputId": "d63887c5-a241-48be-da6e-f5c92823786d"
      },
      "source": [
        "from sklearn.metrics import accuracy_score\n",
        "score_lr = accuracy_score(y_test, y_pred)\n",
        "print(score_lr)"
      ],
      "execution_count": 187,
      "outputs": [
        {
          "output_type": "stream",
          "text": [
            "0.16770483948251078\n"
          ],
          "name": "stdout"
        }
      ]
    },
    {
      "cell_type": "markdown",
      "metadata": {
        "id": "U3Rml7_N_WqA"
      },
      "source": [
        "# Conclusion "
      ]
    },
    {
      "cell_type": "code",
      "metadata": {
        "colab": {
          "base_uri": "https://localhost:8080/",
          "height": 472
        },
        "id": "7idipKqP_d2g",
        "outputId": "ccf493cf-fd31-4bf1-a5c8-1dcfce2a28ba"
      },
      "source": [
        "plt.rcdefaults()\n",
        "fig, ax = plt.subplots()\n",
        "algorithms = ('Decision Tree Classifier', 'Random Forest Classifier', 'K Neighbors Classifier', 'Logistic Regression')\n",
        "y_pos = np.arange(len(algorithms))\n",
        "x = (score_dt, score_rf, score_kn, score_lr)\n",
        "ax.barh(y_pos, x, align='center')\n",
        "ax.set_yticks(y_pos)\n",
        "ax.set_yticklabels(algorithms)\n",
        "ax.invert_yaxis()\n",
        "ax.set_xlabel('Performance')\n",
        "ax.set_title('Algorithms with score')\n",
        "for i, v in enumerate(x):\n",
        "    ax.text(v + 1, i, str(v), color='black', va='center', fontweight='normal')\n",
        "plt.show()"
      ],
      "execution_count": 188,
      "outputs": [
        {
          "output_type": "display_data",
          "data": {
            "image/png": "[encoded data removed]",
            "text/plain": [
              "<Figure size 640x480 with 1 Axes>"
            ]
          },
          "metadata": {
            "tags": []
          }
        }
      ]
    }
  ]
}